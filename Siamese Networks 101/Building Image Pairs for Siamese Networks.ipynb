{
 "cells": [
  {
   "cell_type": "code",
   "execution_count": 1,
   "id": "51e9ac10-e0b7-4c5d-8ddf-c8bec4089c28",
   "metadata": {},
   "outputs": [],
   "source": [
    "#imports\n",
    "from tensorflow.keras.datasets import mnist\n",
    "from imutils import build_montages\n",
    "import numpy as np\n",
    "import cv2 as cv"
   ]
  },
  {
   "cell_type": "code",
   "execution_count": 2,
   "id": "e04327fb-7300-48be-8ca5-1678b9eb1e30",
   "metadata": {},
   "outputs": [],
   "source": [
    "def make_pairs(images, labels):\n",
    "    # initialize 2 empty lists to hold (image, image) pairs and \n",
    "    # labels to indicate if a pair is positive or negative\n",
    "    pair_images = []\n",
    "    pair_labels = []\n",
    "    \n",
    "    # calculate the total number of classes present in dataset and then build a list of\n",
    "    # indexes for each class label that provides indexes for all examples with a given label\n",
    "    num_classes = len(np.unique(labels))\n",
    "    idx = [np.where(labels==i)[0] for i in range(0, num_classes)]\n",
    "    \n",
    "    # loop over all images\n",
    "    for idxA in range(len(images)):\n",
    "        # grab the current image and label belonging to current iteration\n",
    "        current_image = images[idxA]\n",
    "        label = labels[idxA]\n",
    "        \n",
    "        # randomly pic an image that belong to same class label\n",
    "        idxB = np.random.choice(idx[label])\n",
    "        pos_image = images[idxB]\n",
    "        \n",
    "        # prepare positive pair and update images and labels lists respectively\n",
    "        pair_images.append([current_image, pos_image])\n",
    "        pair_labels.append([1])\n",
    "        \n",
    "        # grab the indicies for each of the class labels not equal to current label and \n",
    "        # randomly pick an image corresponding to a label not equal to current label\n",
    "        neg_idx = np.where(labels!=label)[0]\n",
    "        neg_image = images[np.random.choice(neg_idx)]\n",
    "        \n",
    "        # prepare a negative pair of images and update our lists\n",
    "        pair_images.append([current_image, neg_image])\n",
    "        pair_labels.append([0])\n",
    "        \n",
    "    return (np.array(pair_images), np.array(pair_labels))"
   ]
  },
  {
   "cell_type": "code",
   "execution_count": 3,
   "id": "9710220b-504e-420a-846d-cd0e39e39b46",
   "metadata": {},
   "outputs": [
    {
     "name": "stdout",
     "output_type": "stream",
     "text": [
      "[INFO] loading MNIST dataset...\n",
      "[INFO] preparing positive and negative pairs...\n"
     ]
    }
   ],
   "source": [
    "# load the mnist dataset and scale pixel values to the range [0, 1]\n",
    "print('[INFO] loading MNIST dataset...')\n",
    "((trainX, trainY), (testX, testY)) = mnist.load_data()\n",
    "\n",
    "# build the positive and negative image pairs\n",
    "print('[INFO] preparing positive and negative pairs...')\n",
    "(pair_train, label_train) = make_pairs(trainX, trainY)\n",
    "(pair_test, label_test) = make_pairs(testX, testY)\n",
    "\n",
    "# initialize the list of images that will be used when building our montages\n",
    "images = []\n",
    "\n",
    "# loop over a sample of training pairs\n",
    "for i in np.random.choice(np.arange(0, len(pair_train)), size=(49,)):\n",
    "    # grab the current image pair and label\n",
    "    imageA = pair_train[i][0]\n",
    "    imageB = pair_train[i][1]\n",
    "    label = label_train[i]\n",
    "    \n",
    "    # to make it eaisier to visualize the pairs and their positive or negative annotations we are\n",
    "    # going to pad the pairs with four pixels along the top, bottom and right boarders respectively\n",
    "    output = np.zeros((36, 60), dtype='uint8')\n",
    "    pair = np.hstack([imageA, imageB])\n",
    "    output[4:32, 0:56] = pair\n",
    "    \n",
    "    # set the label for the pair along with the color we are going to draw the pair in (green for \n",
    "    # positive pair red for negative pair)\n",
    "    text = 'pos' if label[0]==1 else 'neg'\n",
    "    color = (0, 255, 0) if label[0]==1 else (0,0,255)\n",
    "    \n",
    "    # create a 3-channel RGB image from grascale pair, resize it from 28x28 to 96x51 and then draw\n",
    "    # the type of pair it is on image\n",
    "    vis = cv.merge([output]*3)\n",
    "    vis = cv.resize(vis, (96, 51), interpolation=cv.INTER_LINEAR)\n",
    "    cv.putText(vis, text, (2, 12), cv.FONT_HERSHEY_SIMPLEX, 0.75, color, 2)\n",
    "    \n",
    "    # add the pair visualization to our list of output images\n",
    "    images.append(vis)\n",
    "    \n",
    "# construct the montage for images\n",
    "montage = build_montages(images, (96, 51), (7, 7))[0]\n",
    "\n",
    "# show the output montage\n",
    "cv.imshow('Siamese Image Pairs', montage)\n",
    "cv.waitKey(0)\n",
    "cv.destroyAllWindows()"
   ]
  },
  {
   "cell_type": "code",
   "execution_count": null,
   "id": "f38eb61f-0ec8-4f7f-a560-2a2ce7bb50b7",
   "metadata": {},
   "outputs": [],
   "source": []
  }
 ],
 "metadata": {
  "kernelspec": {
   "display_name": "Python 3 (ipykernel)",
   "language": "python",
   "name": "python3"
  },
  "language_info": {
   "codemirror_mode": {
    "name": "ipython",
    "version": 3
   },
   "file_extension": ".py",
   "mimetype": "text/x-python",
   "name": "python",
   "nbconvert_exporter": "python",
   "pygments_lexer": "ipython3",
   "version": "3.7.10"
  }
 },
 "nbformat": 4,
 "nbformat_minor": 5
}
