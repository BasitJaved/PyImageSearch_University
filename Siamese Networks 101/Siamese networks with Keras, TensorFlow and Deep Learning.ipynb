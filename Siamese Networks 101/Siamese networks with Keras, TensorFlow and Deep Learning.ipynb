{
 "cells": [
  {
   "cell_type": "code",
   "execution_count": 1,
   "id": "d3658b23-8f79-4c50-a62d-b918c622b18d",
   "metadata": {},
   "outputs": [],
   "source": [
    "# config\n",
    "import os\n",
    "\n",
    "# specify the shape of input for our network\n",
    "image_shape = (28, 28, 1)\n",
    "\n",
    "# specify the batch size and number of epochs\n",
    "batch_size = 64\n",
    "epochs = 100\n",
    "\n",
    "# define path to base output directory\n",
    "base_output = 'output'\n",
    "\n",
    "# use base output path to derive the path to serialized model along with training history plot\n",
    "model_path = os.path.sep.join([base_output, 'siamese_model'])\n",
    "plot_path = os.path.sep.join([base_output, 'plot.png'])"
   ]
  },
  {
   "cell_type": "code",
   "execution_count": 2,
   "id": "d3bff4fd-8c21-4e56-ba9e-5c4e93d9e811",
   "metadata": {},
   "outputs": [],
   "source": [
    "# Model\n",
    "from tensorflow.keras.models import Model\n",
    "from tensorflow.keras.layers import Input\n",
    "from tensorflow.keras.layers import Conv2D\n",
    "from tensorflow.keras.layers import Dense\n",
    "from tensorflow.keras.layers import Dropout\n",
    "from tensorflow.keras.layers import GlobalAveragePooling2D\n",
    "from tensorflow.keras.layers import MaxPooling2D\n",
    "\n",
    "def build_siamese_model(input_shape, embedding_dim=48):\n",
    "    # specify inputs for feature extractor network\n",
    "    inputs = Input(input_shape)\n",
    "    \n",
    "    # define first set of CONV=>RELU=>POOL=>Dropout layers\n",
    "    x = Conv2D(64, (2, 2), padding='same', activation='relu')(inputs)\n",
    "    x = MaxPooling2D(pool_size=(2, 2))(x)\n",
    "    x = Dropout(0.3)(X)\n",
    "    \n",
    "    # define second set of CONV=>RELU=>POOL=>Dropout layers\n",
    "    x = Conv2D(64, (2, 2), padding='same', activation='relu')(x)\n",
    "    x = MaxPooling2D(pool_size=2)(x)\n",
    "    x = Dropout(0.3)(X)\n",
    "    \n",
    "    # prepare the final outputs\n",
    "    pooled_output = GlobalAveragePooling2D()(x)\n",
    "    outputs = Dense(embedding_dim)(pooled_output)\n",
    "\n",
    "    # build the model\n",
    "    model = Model(inputs, outputs)\n",
    "    \n",
    "    # return model to calling function\n",
    "    return model"
   ]
  },
  {
   "cell_type": "code",
   "execution_count": null,
   "id": "46c70f75-254b-4d13-8ffa-c3a06b2e6785",
   "metadata": {},
   "outputs": [],
   "source": []
  }
 ],
 "metadata": {
  "kernelspec": {
   "display_name": "Python 3 (ipykernel)",
   "language": "python",
   "name": "python3"
  },
  "language_info": {
   "codemirror_mode": {
    "name": "ipython",
    "version": 3
   },
   "file_extension": ".py",
   "mimetype": "text/x-python",
   "name": "python",
   "nbconvert_exporter": "python",
   "pygments_lexer": "ipython3",
   "version": "3.7.10"
  }
 },
 "nbformat": 4,
 "nbformat_minor": 5
}
