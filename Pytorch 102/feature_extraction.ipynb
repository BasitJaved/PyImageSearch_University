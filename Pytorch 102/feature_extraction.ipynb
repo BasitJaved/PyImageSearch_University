{
 "cells": [
  {
   "cell_type": "code",
   "execution_count": 5,
   "id": "5a962b8d-e914-4fe2-81ab-6936a6fe3b0e",
   "metadata": {},
   "outputs": [],
   "source": [
    "# Config file\n",
    "import torch\n",
    "import os\n",
    "\n",
    "# specify path to dataset\n",
    "dataset_path = 'flowers'\n",
    "base_path = 'dataset'\n",
    "\n",
    "# define validation split and paths to seperate train and validation split\n",
    "val_split = 0.1\n",
    "train_path = os.path.join(base_path, 'train')\n",
    "val_path = os.path.join(base_path, 'val')\n",
    "\n",
    "# define imagenet mean and standard deviation and image size\n",
    "mean = [0.485, 0.456, 0.406]\n",
    "std = [0.229, 0.224, 0.225]\n",
    "image_size = 224\n",
    "\n",
    "# determine device to be used for training and evaluation\n",
    "device = 'cuda' if torch.cuda.is_available() else 'cpu'\n",
    "\n",
    "#specify training hyperparameters\n",
    "batch_size = 256\n",
    "pred_batch_size = 4\n",
    "epochs = 25\n",
    "lr = 0.0001\n",
    "\n",
    "# define paths to store training plot and trained model\n",
    "plot = os.path.join('output', 'train_plot.png')\n",
    "model = os.path.join('output', 'train_model.pth')"
   ]
  },
  {
   "cell_type": "code",
   "execution_count": 6,
   "id": "2c9827ec-4123-4fe2-87fa-e3e65addcef3",
   "metadata": {},
   "outputs": [
    {
     "ename": "ModuleNotFoundError",
     "evalue": "No module named 'imutils'",
     "output_type": "error",
     "traceback": [
      "\u001b[1;31m---------------------------------------------------------------------------\u001b[0m",
      "\u001b[1;31mModuleNotFoundError\u001b[0m                       Traceback (most recent call last)",
      "\u001b[1;32mC:\\Users\\B84145~1\\AppData\\Local\\Temp/ipykernel_16284/302374691.py\u001b[0m in \u001b[0;36m<module>\u001b[1;34m\u001b[0m\n\u001b[0;32m      1\u001b[0m \u001b[1;31m# build Dataset\u001b[0m\u001b[1;33m\u001b[0m\u001b[1;33m\u001b[0m\u001b[1;33m\u001b[0m\u001b[0m\n\u001b[1;32m----> 2\u001b[1;33m \u001b[1;32mfrom\u001b[0m \u001b[0mimutils\u001b[0m \u001b[1;32mimport\u001b[0m \u001b[0mpaths\u001b[0m\u001b[1;33m\u001b[0m\u001b[1;33m\u001b[0m\u001b[0m\n\u001b[0m\u001b[0;32m      3\u001b[0m \u001b[1;32mimport\u001b[0m \u001b[0mnumpy\u001b[0m \u001b[1;32mas\u001b[0m \u001b[0mnp\u001b[0m\u001b[1;33m\u001b[0m\u001b[1;33m\u001b[0m\u001b[0m\n\u001b[0;32m      4\u001b[0m \u001b[1;32mimport\u001b[0m \u001b[0mshutil\u001b[0m\u001b[1;33m\u001b[0m\u001b[1;33m\u001b[0m\u001b[0m\n\u001b[0;32m      5\u001b[0m \u001b[1;32mimport\u001b[0m \u001b[0mos\u001b[0m\u001b[1;33m\u001b[0m\u001b[1;33m\u001b[0m\u001b[0m\n",
      "\u001b[1;31mModuleNotFoundError\u001b[0m: No module named 'imutils'"
     ]
    }
   ],
   "source": [
    "# build Dataset\n",
    "from imutils import paths\n",
    "import numpy as np\n",
    "import shutil\n",
    "import os\n",
    "\n",
    "def copy_images(image_paths, folder):\n",
    "    # check to see if folder exists or not if not create one\n",
    "    if not os.path.exists(folder):\n",
    "        os.makedirs(folder)\n",
    "        \n",
    "    # loop over the image paths\n",
    "    for path in image_path:\n",
    "        # take image name and image lable folder to make image name for destination folder\n",
    "        image_name = path.split(os.path.sep)[-1]\n",
    "        image_label = path.split(os.path.sep)[-2]\n",
    "        label_folder = os.path.join(folder, label)\n",
    "        \n",
    "        # check to see if label folder exists or not if not create one\n",
    "        if not os.path.exists(label_floder):\n",
    "            os.makedirs(label_folder)\n",
    "            \n",
    "        # construct the destination image path and copy images\n",
    "        destination = os.path.join(label_floder, image_name)\n",
    "        shutil.copy(path, destination)\n",
    "        \n",
    "# load all the image paths and randomly shuffle them\n",
    "print('[INFO] loading image paths...')\n",
    "image_paths = list(paths.list_images(dataset_path))\n",
    "np.random.shuffle(image_paths)\n",
    "\n",
    "# generate training and validation  paths\n",
    "val_path_len = int(len(image_paths) * val_split)\n",
    "train_path_len = len(image_paths) - val_path_len\n",
    "train_paths = image_paths[:train_path_len]\n",
    "val_paths = image_paths[train_path_len:]\n",
    "\n",
    "#copy training and validation images to their respective directories\n",
    "print('[INFO] copying training and validation images...')\n",
    "copy_images(train_paths, train_path)\n",
    "copy_images(val_paths, val_path)"
   ]
  },
  {
   "cell_type": "code",
   "execution_count": null,
   "id": "b9c8bcb0-a99f-447b-bc73-dcf809a726d8",
   "metadata": {},
   "outputs": [],
   "source": []
  }
 ],
 "metadata": {
  "kernelspec": {
   "display_name": "Python 3 (ipykernel)",
   "language": "python",
   "name": "python3"
  },
  "language_info": {
   "codemirror_mode": {
    "name": "ipython",
    "version": 3
   },
   "file_extension": ".py",
   "mimetype": "text/x-python",
   "name": "python",
   "nbconvert_exporter": "python",
   "pygments_lexer": "ipython3",
   "version": "3.9.6"
  }
 },
 "nbformat": 4,
 "nbformat_minor": 5
}
