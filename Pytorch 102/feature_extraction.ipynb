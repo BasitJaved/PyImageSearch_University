{
 "cells": [
  {
   "cell_type": "code",
   "execution_count": 9,
   "id": "5a962b8d-e914-4fe2-81ab-6936a6fe3b0e",
   "metadata": {},
   "outputs": [],
   "source": [
    "from torch.utils.data import DataLoader\n",
    "from torchvision import datasets\n",
    "from imutils import paths\n",
    "import numpy as np\n",
    "import shutil\n",
    "import os\n",
    "import torch\n",
    "import os"
   ]
  },
  {
   "cell_type": "code",
   "execution_count": 8,
   "id": "5938d666-2efa-40a0-9927-bf6606b5f435",
   "metadata": {},
   "outputs": [],
   "source": [
    "# Config file\n",
    "# specify path to dataset\n",
    "dataset_path = 'flowers'\n",
    "base_path = 'dataset'\n",
    "\n",
    "# define validation split and paths to seperate train and validation split\n",
    "val_split = 0.1\n",
    "train_path = os.path.join(base_path, 'train')\n",
    "val_path = os.path.join(base_path, 'val')\n",
    "\n",
    "# define imagenet mean and standard deviation and image size\n",
    "mean = [0.485, 0.456, 0.406]\n",
    "std = [0.229, 0.224, 0.225]\n",
    "image_size = 224\n",
    "\n",
    "# determine device to be used for training and evaluation\n",
    "device = 'cuda' if torch.cuda.is_available() else 'cpu'\n",
    "\n",
    "#specify training hyperparameters\n",
    "batch_size = 256\n",
    "pred_batch_size = 4\n",
    "epochs = 25\n",
    "lr = 0.0001\n",
    "\n",
    "# define paths to store training plot and trained model\n",
    "plot = os.path.join('output', 'train_plot.png')\n",
    "model = os.path.join('output', 'train_model.pth')"
   ]
  },
  {
   "cell_type": "code",
   "execution_count": 6,
   "id": "2c9827ec-4123-4fe2-87fa-e3e65addcef3",
   "metadata": {},
   "outputs": [
    {
     "name": "stdout",
     "output_type": "stream",
     "text": [
      "[INFO] loading image paths...\n",
      "[INFO] copying training and validation images...\n"
     ]
    }
   ],
   "source": [
    "# build Dataset\n",
    "def copy_images(image_paths, folder):\n",
    "    # check to see if folder exists or not if not create one\n",
    "    if not os.path.exists(folder):\n",
    "        os.makedirs(folder)\n",
    "        \n",
    "    # loop over the image paths\n",
    "    for path in image_paths:\n",
    "        # take image name and image lable folder to make image name for destination folder\n",
    "        image_name = path.split(os.path.sep)[-1]\n",
    "        image_label = path.split(os.path.sep)[-2]\n",
    "        label_folder = os.path.join(folder, image_label)\n",
    "        \n",
    "        # check to see if label folder exists or not if not create one\n",
    "        if not os.path.exists(label_folder):\n",
    "            os.makedirs(label_folder)\n",
    "            \n",
    "        # construct the destination image path and copy images\n",
    "        destination = os.path.join(label_folder, image_name)\n",
    "        shutil.copy(path, destination)\n",
    "        \n",
    "# load all the image paths and randomly shuffle them\n",
    "print('[INFO] loading image paths...')\n",
    "image_paths = list(paths.list_images(dataset_path))\n",
    "np.random.shuffle(image_paths)\n",
    "\n",
    "# generate training and validation  paths\n",
    "val_path_len = int(len(image_paths) * val_split)\n",
    "train_path_len = len(image_paths) - val_path_len\n",
    "train_paths = image_paths[:train_path_len]\n",
    "val_paths = image_paths[train_path_len:]\n",
    "\n",
    "#copy training and validation images to their respective directories\n",
    "print('[INFO] copying training and validation images...')\n",
    "copy_images(train_paths, train_path)\n",
    "copy_images(val_paths, val_path)"
   ]
  },
  {
   "cell_type": "code",
   "execution_count": 10,
   "id": "b9c8bcb0-a99f-447b-bc73-dcf809a726d8",
   "metadata": {},
   "outputs": [],
   "source": [
    "def get_data_loader(root_dir, transforms, batch_size, shuffle=True):\n",
    "    # create a dataset and use it to create a dataloader\n",
    "    ds = datasets.ImageFolder(root=root_dir, transform=transforms)\n",
    "    loader = DataLoader(ds, batch_size=batch_size, shuffle=shuffle, num_workers = os.cpu_count(), \n",
    "                        pin_memory = True if device =='cuda' else False)\n",
    "    \n",
    "    return (ds, loader)"
   ]
  },
  {
   "cell_type": "code",
   "execution_count": null,
   "id": "dec6841f-d1cc-4a9b-809d-7440d98e652c",
   "metadata": {},
   "outputs": [],
   "source": []
  }
 ],
 "metadata": {
  "kernelspec": {
   "display_name": "Python 3 (ipykernel)",
   "language": "python",
   "name": "python3"
  },
  "language_info": {
   "codemirror_mode": {
    "name": "ipython",
    "version": 3
   },
   "file_extension": ".py",
   "mimetype": "text/x-python",
   "name": "python",
   "nbconvert_exporter": "python",
   "pygments_lexer": "ipython3",
   "version": "3.9.5"
  }
 },
 "nbformat": 4,
 "nbformat_minor": 5
}
